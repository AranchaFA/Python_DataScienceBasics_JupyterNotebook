{
 "cells": [
  {
   "cell_type": "markdown",
   "metadata": {},
   "source": [
    "## STARTING IN NumPy"
   ]
  },
  {
   "cell_type": "code",
   "execution_count": 1,
   "metadata": {},
   "outputs": [],
   "source": [
    "import numpy as np # Numpy must be installed, in Python console: >>>install numpy"
   ]
  },
  {
   "cell_type": "markdown",
   "metadata": {},
   "source": [
    "#### Creating function to print pretty 3D arrays :)"
   ]
  },
  {
   "cell_type": "code",
   "execution_count": 36,
   "metadata": {},
   "outputs": [],
   "source": [
    "# I tried to do a generic recursive method for any dimensions, \n",
    "# but I can't assign array's subset values ([x,y,z,...,:]) to print by this way! :(\n",
    "def print3d(array):\n",
    "    # Prove array is 3D\n",
    "    if array.ndim != 3:\n",
    "        print('Not a 3D array!')\n",
    "        return\n",
    "    # Printing\n",
    "    for line in array:\n",
    "        print(*[item[:] for item in line]) # Column wides aren't regular!"
   ]
  },
  {
   "cell_type": "markdown",
   "metadata": {},
   "source": [
    "Important notes:<br>\n",
    "- Some methods usually return a new array, so transformations and modifications won't be done on original array. However, sort() , ravel(), transpose(), for example, have an effect on original array.\n",
    "- When we work with an array's slice or subsetting, changes made on the second one will affect to the original array!"
   ]
  },
  {
   "cell_type": "markdown",
   "metadata": {},
   "source": [
    "#### Creating arrays"
   ]
  },
  {
   "cell_type": "code",
   "execution_count": 83,
   "metadata": {},
   "outputs": [
    {
     "name": "stdout",
     "output_type": "stream",
     "text": [
      "[0 1 2 3]\n",
      "[4 5 6 7 8 9]\n"
     ]
    }
   ],
   "source": [
    "# Create two arrays to test basic operations with them\n",
    "array_1 = np.arange(4) # From a range\n",
    "array_2 = np.array([4,5,6,7,8,9]) # From a list\n",
    "print(array_1)\n",
    "print(array_2)"
   ]
  },
  {
   "cell_type": "code",
   "execution_count": 79,
   "metadata": {},
   "outputs": [
    {
     "name": "stdout",
     "output_type": "stream",
     "text": [
      "--- Other examples ---\n",
      "[10 15 20]\n",
      "[0. 0. 0. 0.]\n",
      "[1. 1. 1. 1.]\n",
      "[[1. 1.]\n",
      " [1. 1.]]\n",
      "[[1 1]\n",
      " [1 1]]\n",
      "\n",
      "\n",
      "[0.   0.25 0.5  0.75 1.   1.25 1.5  1.75 2.  ]\n",
      "[[7 7]\n",
      " [7 7]]\n",
      "\n",
      "\n",
      "[[1. 0.]\n",
      " [0. 1.]]\n",
      "[[1. 0.]\n",
      " [0. 1.]\n",
      " [0. 0.]]\n",
      "\n",
      "\n",
      "[[0.52161476 0.46131699 0.47284479 0.49346328 0.07888736 0.69703361]\n",
      " [0.8291497  0.27148068 0.06213377 0.94509917 0.30528563 0.9529835 ]\n",
      " [0.18941224 0.04038036 0.94910198 0.15792104 0.93807394 0.14042437]]\n",
      "[[0.71 0.64 0.78 0.84 0.48 0.36]\n",
      " [0.36 0.85 0.14 0.27 0.   0.3 ]\n",
      " [0.05 0.7  0.09 0.46 0.59 0.07]]\n"
     ]
    }
   ],
   "source": [
    "# Other examples\n",
    "print('--- Other examples ---')\n",
    "print(np.arange(10,25,5)) # From 10 to 25 (not incuded), step=5\n",
    "print(np.zeros(4))\n",
    "print(np.ones(4))\n",
    "print(np.empty((2,2))) # 2x2 array full of 1. values\n",
    "print(np.ones((2,2), dtype = int)) # Specifying dtype\n",
    "\n",
    "print('\\n')\n",
    "print(np.linspace(0,2,9)) # From 0 to 2, 9 values evenly spaced\n",
    "print(np.full((2,2),7)) # 2 rowns, 2 columns, full of 7\n",
    "\n",
    "print('\\n')\n",
    "print(np.eye(2,2)) # 2x2 identity matrix\n",
    "print(np.eye(3,2)) # Matrix isn't squared, so it hasn't a 'perfect' diagonal \n",
    "\n",
    "print('\\n')\n",
    "print(np.random.random((3,6))) # 3x6 matrix full of random values between 0-1\n",
    "print(np.around(np.random.random((3,6)),decimals=2)) # Rounding decimal numbers"
   ]
  },
  {
   "cell_type": "markdown",
   "metadata": {},
   "source": [
    "#### Formating and Printing arrays"
   ]
  },
  {
   "cell_type": "code",
   "execution_count": 55,
   "metadata": {},
   "outputs": [
    {
     "name": "stdout",
     "output_type": "stream",
     "text": [
      "[[ 1.000  1.000]\n",
      " [ 1.000  1.000]]\n",
      "[[0.4 0.2]\n",
      " [1.  0. ]]\n",
      "[[0.4399 0.1634]\n",
      " [0.9959 0.0027]]\n"
     ]
    }
   ],
   "source": [
    "# TO ASSIGN GENERAL PRINT OPTIONS (APPLIED TO ALL DE CODE):\n",
    "np.set_printoptions(precision=4) # Number precision = 3\n",
    "# suppress = False # Suppresses use of scientific notation for small numbers\n",
    "# formatter = {'float': '{: 0.3f}'.format})  # Give format to floats\n",
    "# suppress_small = True # Suppresses small numbers\n",
    "\n",
    "\n",
    "# TO APPLY OPTIONS ONLY TO A SPECIFIC CODE FRAGMENT\n",
    "with np.printoptions(precision=3, suppress=True, formatter={'float': '{: 0.3f}'.format}):\n",
    "    print(np.ones((2,2)))\n",
    "    \n",
    "# TO APPLY OPTIONS TO A PRINT\n",
    "array_to_print = np.random.random((2,2))\n",
    "print(np.array_str(array_to_print, precision=1, suppress_small=True))\n",
    "\n",
    "# FORMATING\n",
    "print(np.around(array_to_print,decimals=2))"
   ]
  },
  {
   "cell_type": "markdown",
   "metadata": {},
   "source": [
    "#### Reshaping arrays\n",
    "array.shape -> Attribute, not a method! Because NumPy arrays are **inmutable** <br>\n",
    "array.reshape() -> Returns a **new array** since  NumPy arrays are inmutable <br>"
   ]
  },
  {
   "cell_type": "code",
   "execution_count": 6,
   "metadata": {},
   "outputs": [
    {
     "name": "stdout",
     "output_type": "stream",
     "text": [
      "(4,)\n",
      "[[0]\n",
      " [1]\n",
      " [2]\n",
      " [3]]\n",
      "(4, 1)\n",
      "[[0 1 2 3]]\n",
      "(1, 4)\n",
      "[[4 5 6]\n",
      " [7 8 9]]\n"
     ]
    }
   ],
   "source": [
    "print(array_1.shape) # array_1 shape: (4,) 4*? (it's like it would have only 1 dimension)\n",
    "array_1b = array_1.reshape(-1,1) # new array from array_1 with modified shape: 4*(automatically adjust)\n",
    "print(array_1b)\n",
    "print(array_1b.shape)\n",
    "array_1c = array_1b.reshape(1,-1) # new array from array_1b with initial shape of array_1 (automatically adjust)*4\n",
    "print(array_1c) \n",
    "print(array_1c.shape)\n",
    "print(array_2.reshape(2,3))"
   ]
  },
  {
   "cell_type": "markdown",
   "metadata": {},
   "source": [
    "#### Inspecting array attributes"
   ]
  },
  {
   "cell_type": "code",
   "execution_count": 9,
   "metadata": {},
   "outputs": [
    {
     "name": "stdout",
     "output_type": "stream",
     "text": [
      "4\n",
      "4\n",
      "(4,)\n",
      "1\n",
      "2\n",
      "4\n",
      "4\n",
      "int32\n",
      "int32\n",
      "<class 'numpy.int32'>\n",
      "float64\n",
      "<class 'numpy.float64'>\n",
      "[0. 1. 2. 3.]\n",
      "[0. 1. 2. 3.]\n",
      "[0 1 2 3]\n",
      "[False  True  True  True]\n",
      "[False  True  True  True]\n",
      "['0' '1' '2' '3']\n",
      "[0.+0.j 1.+0.j 2.+0.j 3.+0.j]\n",
      "['0j' '(1+0j)' '(2+0j)' '(3+0j)']\n"
     ]
    }
   ],
   "source": [
    "print(len(array_1)) # Length (total elements, it not depends on its dimensions)\n",
    "print(len(array_1b))\n",
    "print(array_1.shape)\n",
    "print(array_1.ndim) # Dimensions\n",
    "print(array_1b.ndim)\n",
    "print(array_1.size) # Length (total elements, it not depends on its dimensions)\n",
    "print(array_1b.size)\n",
    "\n",
    "print(array_1.dtype) # Data type (NumPy has its own data types)\n",
    "print(array_1.dtype.name) # dtype.name is a str\n",
    "print(array_1.dtype.type) # dtype is the 'class'\n",
    "\n",
    "array_float = np.array([0.0,1,2,3]) # If any element is float, array's dtype=float and every item becomes float\n",
    "print(array_float.dtype) \n",
    "print(array_float.dtype.type)  \n",
    "print(array_float)\n",
    "\n",
    "print(array_1.astype(float))\n",
    "print(array_float.astype(int))\n",
    "print(array_1.astype(bool)) # Numbers can be converted to boolean: 0=False !0=True\n",
    "print(array_float.astype(bool))\n",
    "print(array_1.astype(str)) # Numbers to str\n",
    "print(array_1.astype(complex)) # Int to complex numbers\n",
    "print(array_1.astype(complex).astype(str)) # Int to complex numbers to str"
   ]
  },
  {
   "cell_type": "markdown",
   "metadata": {},
   "source": [
    "#### Operating with arrays"
   ]
  },
  {
   "cell_type": "code",
   "execution_count": 69,
   "metadata": {
    "scrolled": true
   },
   "outputs": [
    {
     "name": "stdout",
     "output_type": "stream",
     "text": [
      "Array 3x4\n",
      "(3, 4)\n",
      "[[ 0  1  2  3]\n",
      " [ 4  5  6  7]\n",
      " [ 8  9 10 11]]\n",
      "Array 4x3\n",
      "(4, 3)\n",
      "[[ 0  1  2]\n",
      " [ 3  4  5]\n",
      " [ 6  7  8]\n",
      " [ 9 10 11]]\n",
      "Array 3x4 full of 1\n",
      "[[1. 1. 1. 1.]\n",
      " [1. 1. 1. 1.]\n",
      " [1. 1. 1. 1.]]\n",
      "\n",
      " -- BASIC ARITHMETIC OPERATIONS --\n",
      "[[-1.  0.  1.  2.]\n",
      " [ 3.  4.  5.  6.]\n",
      " [ 7.  8.  9. 10.]]\n",
      "[[-1.  0.  1.  2.]\n",
      " [ 3.  4.  5.  6.]\n",
      " [ 7.  8.  9. 10.]]\n",
      "[[-2 -1  0  1]\n",
      " [ 2  3  4  5]\n",
      " [ 6  7  8  9]]\n",
      "[[ 1.  2.  3.  4.]\n",
      " [ 5.  6.  7.  8.]\n",
      " [ 9. 10. 11. 12.]]\n",
      "[[ 0.  2.  4.  6.]\n",
      " [ 8. 10. 12. 14.]\n",
      " [16. 18. 20. 22.]]\n",
      "[[1.]\n",
      " [1.]\n",
      " [1.]]\n",
      "[[ 0.  1.  2.  3.]\n",
      " [ 4.  5.  6.  7.]\n",
      " [ 8.  9. 10. 11.]]\n",
      "[[1.         0.5        0.33333333 0.25      ]\n",
      " [0.2        0.16666667 0.14285714 0.125     ]\n",
      " [0.11111111 0.1        0.09090909 0.08333333]]\n",
      "[[0.25 0.25 0.25 0.25]\n",
      " [0.25 0.25 0.25 0.25]\n",
      " [0.25 0.25 0.25 0.25]]\n",
      "[[  0   1   4   9]\n",
      " [ 16  25  36  49]\n",
      " [ 64  81 100 121]]\n",
      "[[0.         1.         1.41421356 1.73205081]\n",
      " [2.         2.23606798 2.44948974 2.64575131]\n",
      " [2.82842712 3.         3.16227766 3.31662479]]\n",
      "[[  0.   1.   4.   9.]\n",
      " [ 16.  25.  36.  49.]\n",
      " [ 64.  81. 100. 121.]]\n",
      "[[0.         1.         1.41421356 1.73205081]\n",
      " [2.         2.23606798 2.44948974 2.64575131]\n",
      " [2.82842712 3.         3.16227766 3.31662479]]\n",
      "\n",
      " -- MORE COMPLEX OPERATIONS --\n",
      "[[ 0.          0.84147098  0.90929743  0.14112001]\n",
      " [-0.7568025  -0.95892427 -0.2794155   0.6569866 ]\n",
      " [ 0.98935825  0.41211849 -0.54402111 -0.99999021]]\n",
      "[[ 1.          0.54030231 -0.41614684 -0.9899925 ]\n",
      " [-0.65364362  0.28366219  0.96017029  0.75390225]\n",
      " [-0.14550003 -0.91113026 -0.83907153  0.0044257 ]]\n",
      "[[1.00000000e+00 2.71828183e+00 7.38905610e+00 2.00855369e+01]\n",
      " [5.45981500e+01 1.48413159e+02 4.03428793e+02 1.09663316e+03]\n",
      " [2.98095799e+03 8.10308393e+03 2.20264658e+04 5.98741417e+04]]\n",
      "[[1.00000000e+00 2.71828183e+00 7.38905610e+00 2.00855369e+01]\n",
      " [5.45981500e+01 1.48413159e+02 4.03428793e+02 1.09663316e+03]\n",
      " [2.98095799e+03 8.10308393e+03 2.20264658e+04 5.98741417e+04]]\n",
      "[[0.         0.69314718 1.09861229 1.38629436]\n",
      " [1.60943791 1.79175947 1.94591015 2.07944154]\n",
      " [2.19722458 2.30258509 2.39789527 2.48490665]]\n",
      "[[ 42  48  54]\n",
      " [114 136 158]\n",
      " [186 224 262]]\n",
      "[[ 6.  6.  6.  6.  6.  6.  6.  6.  6.  6.]\n",
      " [22. 22. 22. 22. 22. 22. 22. 22. 22. 22.]\n",
      " [38. 38. 38. 38. 38. 38. 38. 38. 38. 38.]]\n",
      "[[ 6.]\n",
      " [22.]\n",
      " [38.]]\n",
      "\n",
      " -- COMPARISON OPERATIONS --\n",
      "[[False  True False False]\n",
      " [False False False False]\n",
      " [False False False False]]\n",
      "False\n",
      "True\n",
      "False\n",
      "\n",
      " -- AGGREGATE OPERATIONS --\n",
      "66\n",
      "0\n",
      "11\n",
      "[ 8  9 10 11]\n",
      "[0 4 8]\n",
      "[ 0  1  3  6 10 15 21 28 36 45 55 66]\n",
      "5.5\n",
      "\n",
      " -- AGGREGATE MORE COMPLEX OPERATIONS --\n",
      "[[1.         0.81162397 0.62530858]\n",
      " [0.81162397 1.         0.96339659]\n",
      " [0.62530858 0.96339659 1.        ]]\n",
      "3.452052529534663\n"
     ]
    }
   ],
   "source": [
    "# CREATE 2 ARRAYS TO WORK WITH (with 'compatible' number of rows and cols)\n",
    "basic_array = np.arange(12) # Basic array with 3*4 items (to create 3x4 and 4x3 matrix from it)\n",
    "print('Array 3x4')\n",
    "a3x4 = basic_array.reshape(3,-1)\n",
    "print(a3x4.shape)\n",
    "print(a3x4)\n",
    "print('Array 4x3')\n",
    "a4x3 = a3x4.reshape(a3x4.shape[1],-1) # rows = cols of array_3x4 (more convenient if we don't know array size)\n",
    "print(a4x3.shape)\n",
    "print(a4x3)\n",
    "print('Array 3x4 full of 1')\n",
    "one3x4=np.ones((a3x4.shape[0],a3x4.shape[1]))\n",
    "print(one3x4)\n",
    "\n",
    "# TEST ARITHMETIC OPERATIONS WITH ARRAYS\n",
    "\n",
    "print('\\n -- BASIC ARITHMETIC OPERATIONS --')\n",
    "#print(np.substract(a3x4,one3x4)) # Error: NumPy doesn't has substract() function \n",
    "\n",
    "# We can operate array-array or array-number \n",
    "# ARRAY-NUMBER : Operation between each array item and the number\n",
    "# ARRAY1-ARRAY2 (same dimensions!): Operation between items with the same position (a00*b00,a01*b01,...)\n",
    "# ARRAY1-ARRAY2 (rows1x1 dimension): Operation between each array1 item and array2 item in the same column (a00*b00,a01*b01,...,a10*b00,a11*b01,...)\n",
    "\n",
    "print(a3x4 - one3x4)\n",
    "print(a3x4 - np.ones((1,4)))\n",
    "print(a3x4 - 2)\n",
    "print(a3x4 + one3x4) \n",
    "print(a3x4 * one3x4 * 2) \n",
    "print(np.ones((3,1)))\n",
    "print(a3x4 * np.ones((3,1)))\n",
    "print(one3x4 / (a3x4+1)) # (+1 because if first element=0 it causes ZeroDivideError)\n",
    "print(one3x4 / 4)\n",
    "print(a3x4**2)\n",
    "print(np.sqrt(a3x4))\n",
    "print(a3x4**(one3x4*2))\n",
    "print(a3x4**(1/2))\n",
    "\n",
    "\n",
    "print('\\n -- MORE COMPLEX OPERATIONS --')\n",
    "print(np.sin(a3x4))\n",
    "print(np.cos(a3x4))\n",
    "print(np.exp(a3x4)) # neperian exponentiation\n",
    "print(np.exp(a3x4))\n",
    "print(np.log(a3x4+1)) # neperain logarithm (+1 because if first element=0 it causes ZeroDivideError)\n",
    "print(a3x4.dot(a4x3)) # MATRIX MULTIPLICATION cols1=rows2!\n",
    "print(a3x4.dot(np.ones((4,10))))\n",
    "print(a3x4.dot(np.ones((4,1))))\n",
    "\n",
    "\n",
    "print('\\n -- COMPARISON OPERATIONS --')\n",
    "print(a3x4 == one3x4) # Comparison item by item with same position: return array dtype=bool\n",
    "print((a3x4 == one3x4).all()) # True if all items=True/>0; False if any item=False/0\n",
    "print(one3x4.all())\n",
    "print(a3x4.all())\n",
    "\n",
    "\n",
    "print('\\n -- AGGREGATE OPERATIONS --')\n",
    "# axis=0 : Column-wise\n",
    "# axis=1 : Row-wise\n",
    "print(a3x4.sum()) # Array-wise sumatory\n",
    "print(a3x4.min())\n",
    "print(a3x4.max())\n",
    "print(a3x4.max(axis=0)) # Maxs of every column\n",
    "print(a3x4.min(axis=1)) # Mins of every row\n",
    "print(a3x4.cumsum()) # Cumulative sum \n",
    "print(a3x4.mean())\n",
    "print('\\n -- AGGREGATE MORE COMPLEX OPERATIONS --')\n",
    "print(np.corrcoef(np.random.random((3,3)))) # Correlation coefficient\n",
    "with np.printoptions(precision=3): # Options doesn't work!\n",
    "    print(np.std(a3x4)) # Standard deviation"
   ]
  },
  {
   "cell_type": "markdown",
   "metadata": {},
   "source": [
    "#### Copying arrays"
   ]
  },
  {
   "cell_type": "code",
   "execution_count": 78,
   "metadata": {},
   "outputs": [
    {
     "name": "stdout",
     "output_type": "stream",
     "text": [
      "[[1 1]\n",
      " [1 1]]\n",
      "[[1 1]\n",
      " [1 1]]\n"
     ]
    }
   ],
   "source": [
    "array = np.ones((2,2), dtype = int)\n",
    "array_copy = array.view() # View : Changes on view/array affect the other\n",
    "print(array_copy)\n",
    "array_copy = array.copy() # # Copy : Changes on copy/array don't affect the other\n",
    "print(array_copy)"
   ]
  },
  {
   "cell_type": "markdown",
   "metadata": {},
   "source": [
    "#### Sorting arrays"
   ]
  },
  {
   "cell_type": "code",
   "execution_count": 105,
   "metadata": {
    "scrolled": true
   },
   "outputs": [
    {
     "name": "stdout",
     "output_type": "stream",
     "text": [
      "[[0.35 0.08 0.42 0.39 0.23]\n",
      " [0.73 0.05 0.34 0.46 0.95]]\n",
      "[[0.08 0.23 0.35 0.39 0.42]\n",
      " [0.05 0.34 0.46 0.73 0.95]]\n",
      "[[0.05 0.23 0.35 0.39 0.42]\n",
      " [0.08 2.   0.46 0.73 0.95]]\n"
     ]
    }
   ],
   "source": [
    "array_sorted = np.round(np.random.random((2,5)), decimals = 2)\n",
    "print(array_sorted)\n",
    "array_sorted.sort() # This method DOESN'T RETURN AN ARRAY, it modifies original array and RETURN NONE\n",
    "print(array_sorted)\n",
    "array_sorted[(1,1)]=2 # To see OK the difference between axis orders because random values are very similar\n",
    "array_sorted.sort(axis=0) # Column-wise sorted\n",
    "print(array_sorted)"
   ]
  },
  {
   "cell_type": "markdown",
   "metadata": {},
   "source": [
    "#### Sub-setting, slicing and indexing arrays (obtaining subsettings from them!)"
   ]
  },
  {
   "cell_type": "code",
   "execution_count": 54,
   "metadata": {},
   "outputs": [
    {
     "name": "stdout",
     "output_type": "stream",
     "text": [
      "ARRAY 2D:\n",
      "[[ 0  1  2  3]\n",
      " [ 4  5  6  7]\n",
      " [ 8  9 10 11]\n",
      " [12 13 14 15]]\n",
      "\n",
      "------\n",
      "[4 5 6 7]\n",
      "6\n",
      "[ 1  5  9 13]\n",
      "[]\n",
      "[[4 5]\n",
      " [8 9]]\n",
      "[0 1 2]\n",
      "[[ 0  1  2]\n",
      " [ 4  5  6]\n",
      " [ 8  9 10]\n",
      " [12 13 14]]\n",
      "[[12 13 14 15]]\n",
      "[[ 0  1  2  3]\n",
      " [ 4  5  6  7]\n",
      " [ 8  9 10 11]]\n",
      "[[12 13 14 15]\n",
      " [ 8  9 10 11]\n",
      " [ 4  5  6  7]\n",
      " [ 0  1  2  3]]\n",
      "[[ 3  2  1  0]\n",
      " [ 7  6  5  4]\n",
      " [11 10  9  8]\n",
      " [15 14 13 12]]\n",
      "[[15 14 13 12]\n",
      " [11 10  9  8]\n",
      " [ 7  6  5  4]\n",
      " [ 3  2  1  0]]\n",
      "[[12 13 14 15]\n",
      " [ 8  9 10 11]\n",
      " [ 4  5  6  7]\n",
      " [ 0  1  2  3]]\n",
      "\n",
      "ARRAY 3D:\n",
      "[0 1 2 3] [4 5 6 7]\n",
      "[ 8  9 10 11] [12 13 14 15]\n",
      "11\n",
      "\n",
      "-----\n",
      "[[[14 15]]]\n",
      "(1, 1, 2)\n",
      "(2,)\n",
      "\n",
      "COMBINED INDEXES:\n",
      "[ 4 10]\n",
      "[[ 6  7]\n",
      " [10 11]]\n",
      "---\n",
      "[[[ 9 10]\n",
      "  [13 14]]\n",
      "\n",
      " [[ 1  2]\n",
      "  [ 5  6]]]\n"
     ]
    }
   ],
   "source": [
    "array = np.arange(16)\n",
    "print('ARRAY 2D:')\n",
    "array = array.reshape(4,-1)\n",
    "print(array)\n",
    "print('\\n------')\n",
    "print(array[1]) # Items of row 1, same as array[1,:]\n",
    "print(array[1,2]) # Item row 1 col 2\n",
    "print(array[:,1]) # Items of column 1\n",
    "print(array[4:-1:-1,0:3:2]) # [TART:STOP:STEP, ...] If step<0 start>stop and endStop=-1!\n",
    "print(array[1:3,0:2]) # Rows 1-3 Cols 0-2 (ends of ranges aren't included)\n",
    "print(array[array<3]) # Firts row, cols<3\n",
    "print(array[:,:-1]) # Remove last column \n",
    "print(array[-1:,:]) # Last row\n",
    "print(array[:-1,:]) # Remove last row\n",
    "print(array[::-1]) # Inverse row order, same as array[::-1,::]\n",
    "print(array[::,::-1]) # Inverse col order\n",
    "print(array[::-1,::-1]) # Inverse row and column order\n",
    "print(np.flip(array, axis = 0)) # Inverse row order\n",
    "\n",
    "print('\\nARRAY 3D:')\n",
    "array_3d = array.reshape(2,2,-1)\n",
    "print3d(array_3d)\n",
    "print(array_3d[-1,0,-1])\n",
    "print('\\n-----')\n",
    "print(array_3d[1:,1:,2:]) # Rows 1-end Cols 1-end Items 2-end\n",
    "print(array_3d[1:,1:,2:].shape) # x:, range -> It will generate a DIMENSION in resulting array\n",
    "print(array_3d[1,1,2:].shape) # x, index -> It won't generate a dimension in resulting array\n",
    "\n",
    "print('\\nCOMBINED INDEXES:')\n",
    "print(array[[1,2],[0,2]]) # Items in positions (1,0) (2,2) -> Dimension = 1x2\n",
    "print(array[[1,2],:][:,[2,3]]) # Items in positions ((1,2) (1,3)) ((2,2) (2,3)) -> Dimension = 2x2 (same as [[1,2]][:,[2,2]])\n",
    "print('---')\n",
    "print(array_3d[[1,0],:,:][:,[0,1],:][:,:,[1,2]]) # Combining with 3D"
   ]
  },
  {
   "cell_type": "markdown",
   "metadata": {},
   "source": [
    "#### Manipulating arrays"
   ]
  },
  {
   "cell_type": "code",
   "execution_count": 113,
   "metadata": {
    "scrolled": true
   },
   "outputs": [
    {
     "name": "stdout",
     "output_type": "stream",
     "text": [
      "\n",
      "ARRAY 3D:\n",
      "[0 1 2 3] [4 5 6 7]\n",
      "[ 8  9 10 11] [12 13 14 15]\n",
      "\n",
      "FLAT ARRAY:\n",
      "[20 21 22 23]\n",
      "\n",
      "CHANGING FEATURES:\n",
      "[0 8] [ 4 12]\n",
      "[1 9] [ 5 13]\n",
      "[ 2 10] [ 6 14]\n",
      "[ 3 11] [ 7 15]\n",
      "[ 0  1  2  3  4  5  6  7  8  9 10 11 12 13 14 15]\n",
      "[0] [1]\n",
      "[2] [3]\n",
      "[4] [5]\n",
      "[6] [7]\n",
      "[8] [9]\n",
      "[10] [11]\n",
      "[12] [13]\n",
      "[14] [15]\n",
      "[0 1] [2 3]\n",
      "[4 5] [6 7]\n",
      "[8 9] [10 11]\n",
      "[12 13] [14 15]\n",
      "\n",
      "HANDLING CONTENT:\n",
      "[20 21 22 23  0  1  2  3  4  5  6  7  8  9 10 11 12 13 14 15]\n",
      "[ 0  1 99  2  3  4  5  6  7  8  9 10 11 12 13 14 15]\n",
      "[ 0  1  2 99 99  3 99  4  5  6  7  8  9 10 11 12 13 14 15]\n",
      "[ 0  1  2  3 99  4  5  6  7  8  9 10 11 12 13 14 15]\n"
     ]
    }
   ],
   "source": [
    "print('\\nARRAY 3D:')\n",
    "array_3d = np.arange(16).reshape(2,2,-1)\n",
    "print3d(array_3d)\n",
    "print('\\nFLAT ARRAY:')\n",
    "array = np.arange(20,24)\n",
    "print(array)\n",
    "print('\\nCHANGING FEATURES:')\n",
    "print3d(array_3d.T) # Transpose (permute dimensions) same as np.transpose(array_3d)\n",
    "print(array_3d.ravel()) # Flat the array (1 unique row)\n",
    "print3d(array_3d.reshape(8,2,-1)) # Change shape row=8 col=2 depth=auto-adjust\n",
    "array_3d.resize((4,2,2)) # Change size of the ORIGINAL ARRAY (returns None)\n",
    "print3d(array_3d)\n",
    "\n",
    "print('\\nHANDLING CONTENT:')\n",
    "print(np.append(array,array_3d)) # Returns a flat array with whole items\n",
    "print(np.insert(array_3d,2,99)) # (array,position,value to insert) Returns a flat array\n",
    "array_insert = np.insert(array_3d,(3,4,3),[99,99,99])\n",
    "print(array_insert) # Multi-item insert, if two indexes concur insert them consecutive and 'displace' next position! (i.e. pos4=pos5)\n",
    "print(np.delete(array_insert,[3,4,3,3,3])) # Duplicate idexes are ignored"
   ]
  },
  {
   "cell_type": "markdown",
   "metadata": {},
   "source": [
    "#### Combining arrays"
   ]
  },
  {
   "cell_type": "code",
   "execution_count": 139,
   "metadata": {},
   "outputs": [
    {
     "name": "stdout",
     "output_type": "stream",
     "text": [
      "\n",
      "ARRAY 3D:\n",
      "[0 1 2 3] [4 5 6 7]\n",
      "[ 8  9 10 11] [12 13 14 15]\n",
      "(2, 2, 4)\n",
      "\n",
      "FLAT ARRAY:\n",
      "[20 21 22 23]\n",
      "\n",
      "\n",
      "[[[ 0  1  2  3  0  1  2  3]\n",
      "  [ 4  5  6  7  4  5  6  7]]\n",
      "\n",
      " [[ 8  9 10 11  8  9 10 11]\n",
      "  [12 13 14 15 12 13 14 15]]]\n"
     ]
    },
    {
     "ename": "ValueError",
     "evalue": "all the input arrays must have same number of dimensions, but the array at index 0 has 3 dimension(s) and the array at index 1 has 2 dimension(s)",
     "output_type": "error",
     "traceback": [
      "\u001b[1;31m---------------------------------------------------------------------------\u001b[0m",
      "\u001b[1;31mValueError\u001b[0m                                Traceback (most recent call last)",
      "\u001b[1;32m<ipython-input-139-02915c5ab646>\u001b[0m in \u001b[0;36m<module>\u001b[1;34m\u001b[0m\n\u001b[0;32m      8\u001b[0m \u001b[0mprint\u001b[0m\u001b[1;33m(\u001b[0m\u001b[1;34m'\\n'\u001b[0m\u001b[1;33m)\u001b[0m\u001b[1;33m\u001b[0m\u001b[1;33m\u001b[0m\u001b[0m\n\u001b[0;32m      9\u001b[0m \u001b[0mprint\u001b[0m\u001b[1;33m(\u001b[0m\u001b[0mnp\u001b[0m\u001b[1;33m.\u001b[0m\u001b[0mconcatenate\u001b[0m\u001b[1;33m(\u001b[0m\u001b[1;33m(\u001b[0m\u001b[0marray_3d\u001b[0m\u001b[1;33m,\u001b[0m \u001b[0marray_3d\u001b[0m\u001b[1;33m)\u001b[0m\u001b[1;33m,\u001b[0m\u001b[0maxis\u001b[0m\u001b[1;33m=\u001b[0m\u001b[1;36m2\u001b[0m\u001b[1;33m)\u001b[0m\u001b[1;33m)\u001b[0m \u001b[1;31m# Arrays shape must match exactly\u001b[0m\u001b[1;33m\u001b[0m\u001b[1;33m\u001b[0m\u001b[0m\n\u001b[1;32m---> 10\u001b[1;33m \u001b[0mprint3d\u001b[0m\u001b[1;33m(\u001b[0m\u001b[0mnp\u001b[0m\u001b[1;33m.\u001b[0m\u001b[0mvstack\u001b[0m\u001b[1;33m(\u001b[0m\u001b[1;33m(\u001b[0m\u001b[0marray_3d\u001b[0m\u001b[1;33m.\u001b[0m\u001b[0mreshape\u001b[0m\u001b[1;33m(\u001b[0m\u001b[1;36m4\u001b[0m\u001b[1;33m,\u001b[0m\u001b[1;36m2\u001b[0m\u001b[1;33m,\u001b[0m\u001b[1;33m-\u001b[0m\u001b[1;36m1\u001b[0m\u001b[1;33m)\u001b[0m\u001b[1;33m,\u001b[0m\u001b[0marray\u001b[0m\u001b[1;33m)\u001b[0m\u001b[1;33m)\u001b[0m\u001b[1;33m)\u001b[0m\u001b[1;33m\u001b[0m\u001b[1;33m\u001b[0m\u001b[0m\n\u001b[0m",
      "\u001b[1;32m<__array_function__ internals>\u001b[0m in \u001b[0;36mvstack\u001b[1;34m(*args, **kwargs)\u001b[0m\n",
      "\u001b[1;32m~\\miniconda3\\envs\\start\\lib\\site-packages\\numpy\\core\\shape_base.py\u001b[0m in \u001b[0;36mvstack\u001b[1;34m(tup)\u001b[0m\n\u001b[0;32m    281\u001b[0m     \u001b[1;32mif\u001b[0m \u001b[1;32mnot\u001b[0m \u001b[0misinstance\u001b[0m\u001b[1;33m(\u001b[0m\u001b[0marrs\u001b[0m\u001b[1;33m,\u001b[0m \u001b[0mlist\u001b[0m\u001b[1;33m)\u001b[0m\u001b[1;33m:\u001b[0m\u001b[1;33m\u001b[0m\u001b[1;33m\u001b[0m\u001b[0m\n\u001b[0;32m    282\u001b[0m         \u001b[0marrs\u001b[0m \u001b[1;33m=\u001b[0m \u001b[1;33m[\u001b[0m\u001b[0marrs\u001b[0m\u001b[1;33m]\u001b[0m\u001b[1;33m\u001b[0m\u001b[1;33m\u001b[0m\u001b[0m\n\u001b[1;32m--> 283\u001b[1;33m     \u001b[1;32mreturn\u001b[0m \u001b[0m_nx\u001b[0m\u001b[1;33m.\u001b[0m\u001b[0mconcatenate\u001b[0m\u001b[1;33m(\u001b[0m\u001b[0marrs\u001b[0m\u001b[1;33m,\u001b[0m \u001b[1;36m0\u001b[0m\u001b[1;33m)\u001b[0m\u001b[1;33m\u001b[0m\u001b[1;33m\u001b[0m\u001b[0m\n\u001b[0m\u001b[0;32m    284\u001b[0m \u001b[1;33m\u001b[0m\u001b[0m\n\u001b[0;32m    285\u001b[0m \u001b[1;33m\u001b[0m\u001b[0m\n",
      "\u001b[1;32m<__array_function__ internals>\u001b[0m in \u001b[0;36mconcatenate\u001b[1;34m(*args, **kwargs)\u001b[0m\n",
      "\u001b[1;31mValueError\u001b[0m: all the input arrays must have same number of dimensions, but the array at index 0 has 3 dimension(s) and the array at index 1 has 2 dimension(s)"
     ]
    }
   ],
   "source": [
    "print('\\nARRAY 3D:')\n",
    "array_3d = np.arange(16).reshape(2,2,-1)\n",
    "print3d(array_3d)\n",
    "print(array_3d.shape)\n",
    "print('\\nFLAT ARRAY:')\n",
    "array = np.arange(20,24)\n",
    "print(array)\n",
    "print('\\n')\n",
    "print(np.concatenate((array_3d, array_3d),axis=2)) # Arrays shape must match exactly\n",
    "print3d(np.vstack((array_3d.reshape(4,2,-1),array)))"
   ]
  }
 ],
 "metadata": {
  "kernelspec": {
   "display_name": "Start",
   "language": "python",
   "name": "start"
  },
  "language_info": {
   "codemirror_mode": {
    "name": "ipython",
    "version": 3
   },
   "file_extension": ".py",
   "mimetype": "text/x-python",
   "name": "python",
   "nbconvert_exporter": "python",
   "pygments_lexer": "ipython3",
   "version": "3.7.7"
  }
 },
 "nbformat": 4,
 "nbformat_minor": 4
}
